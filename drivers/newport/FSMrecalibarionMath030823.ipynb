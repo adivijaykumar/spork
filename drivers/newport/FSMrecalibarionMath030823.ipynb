{
 "cells": [
  {
   "cell_type": "code",
   "execution_count": 1,
   "metadata": {},
   "outputs": [],
   "source": [
    "import numpy as np"
   ]
  },
  {
   "cell_type": "code",
   "execution_count": 12,
   "metadata": {},
   "outputs": [
    {
     "name": "stdout",
     "output_type": "stream",
     "text": [
      "[[13.3225  0.0625]\n",
      " [ 0.3025 36.6025]]\n",
      "[[119.84268317]\n",
      " [ 54.33365449]]\n"
     ]
    }
   ],
   "source": [
    "A = np.array([[3.65**2, 0.25**2], [0.55**2, 6.05**2]]) #DeltaXY_V'sSqrd\n",
    "print(A)\n",
    "XYperVsqrd = np.dot( np.linalg.inv(A), np.array([[40.0**2], [45.0**2]]) ) #DeltaPositionsOnFab\n",
    "print(XYperVsqrd)"
   ]
  },
  {
   "cell_type": "code",
   "execution_count": 13,
   "metadata": {},
   "outputs": [
    {
     "name": "stdout",
     "output_type": "stream",
     "text": [
      "[[10.9472683 ]\n",
      " [ 7.37113658]]\n"
     ]
    }
   ],
   "source": [
    "XYperV = np.sqrt(XYperVsqrd)\n",
    "print(XYperV)"
   ]
  },
  {
   "attachments": {},
   "cell_type": "markdown",
   "metadata": {},
   "source": [
    "New XperV: 10.9472683 (a few percent different, but pretty similar)\n",
    "New YperV: 7.37113658 (basically the same as before)\n",
    "\n",
    "Old XperV: 10.1665\n",
    "Old YperV: 7.3414"
   ]
  },
  {
   "cell_type": "markdown",
   "metadata": {},
   "source": []
  }
 ],
 "metadata": {
  "kernelspec": {
   "display_name": "Python 3",
   "language": "python",
   "name": "python3"
  },
  "language_info": {
   "codemirror_mode": {
    "name": "ipython",
    "version": 3
   },
   "file_extension": ".py",
   "mimetype": "text/x-python",
   "name": "python",
   "nbconvert_exporter": "python",
   "pygments_lexer": "ipython3",
   "version": "3.9.7"
  },
  "orig_nbformat": 4,
  "vscode": {
   "interpreter": {
    "hash": "eb689d2b8334b67c8322b4e593f51c392e73830a601cc863e545e6b8412b82b2"
   }
  }
 },
 "nbformat": 4,
 "nbformat_minor": 2
}
