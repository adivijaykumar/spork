{
 "cells": [
  {
   "cell_type": "code",
   "execution_count": 2,
   "id": "79ad9787",
   "metadata": {},
   "outputs": [
    {
     "name": "stdout",
     "output_type": "stream",
     "text": [
      "Connect to Pulse Streamer via JSON-RPC.\n",
      "IP / Hostname: 192.168.1.76\n",
      "Pulse Streamer 8/2 firmware: v1.6.3\n",
      "Client software: v1.7.0\n",
      "Your client software is more up to date than the Pulse Streamer 8/2 firmware. We recommend updating the firmware of your Pulse Streamer 8/2.\n",
      "For detailed information visit https://www.swabianinstruments.com/pulse-streamer-8-2/downloads/ or contact support@swabianinstruments.com\n"
     ]
    }
   ],
   "source": [
    "import numpy as np\n",
    "import matplotlib.pyplot as plt\n",
    "import pulsestreamer as pstr\n",
    "ip = '192.168.1.76'\n",
    "ps = pstr.PulseStreamer(ip)"
   ]
  },
  {
   "cell_type": "code",
   "execution_count": 11,
   "id": "0af84247",
   "metadata": {},
   "outputs": [],
   "source": [
    "# A pulse with 10µs HIGH and 30µs LOW levels\n",
    "pattern = [(10000, 1), (10000, 0)]\n",
    "sequence = ps.createSequence()\n",
    "# Create sequence and assign pattern to digital channel 0\n",
    "sequence.setDigital(0, pattern)\n",
    "\n",
    "n_runs = pstr.PulseStreamer.REPEAT_INFINITELY\n",
    "ps.stream(sequence, n_runs)"
   ]
  },
  {
   "cell_type": "code",
   "execution_count": 12,
   "id": "95c59fe6",
   "metadata": {},
   "outputs": [],
   "source": [
    "ps.constant(([0],0,0))"
   ]
  },
  {
   "cell_type": "code",
   "execution_count": 1,
   "id": "940e2b5a",
   "metadata": {},
   "outputs": [],
   "source": [
    "from ni_photonCounting import NIDAQ_PhotonCounter"
   ]
  },
  {
   "cell_type": "code",
   "execution_count": 15,
   "id": "56fc917a",
   "metadata": {},
   "outputs": [
    {
     "name": "stdout",
     "output_type": "stream",
     "text": [
      "[[0 0 0 0 0 0 0 0 0 0]\n",
      " [0 0 0 0 0 0 0 0 0 0]\n",
      " [0 0 0 0 0 0 0 0 0 0]\n",
      " [0 0 0 0 0 0 0 0 0 0]]\n"
     ]
    }
   ],
   "source": [
    "rate = 100\n",
    "numSamples = 10\n",
    "with NIDAQ_PhotonCounter() as daq:\n",
    "    counts = daq.readCtrs_multiRead_intClk(rate, numSamples)\n",
    "print(counts)"
   ]
  },
  {
   "cell_type": "markdown",
   "id": "1266105c",
   "metadata": {},
   "source": [
    "DAQ connetcs to pulsestreamer. Next: connect with inserv\n"
   ]
  },
  {
   "cell_type": "markdown",
   "id": "ba64271e",
   "metadata": {},
   "source": [
    "Go to inserv.py and add the DAQ"
   ]
  },
  {
   "cell_type": "markdown",
   "id": "731be9c8",
   "metadata": {},
   "source": [
    "To test, run inserv.py and send commands.  \n",
    "Open python with: Python  \n",
    "\n",
    "```python\n",
    "from nspyre import InstrumentGateway\n",
    "gw = InstrumentGateway()\n",
    "gw.connect()\n",
    "gw.nidaq\n",
    "<nspyre.instrument.gateway.InstrumentGatewayDevice object at 0x000002A5F19BD1D0>\n",
    "rate = 100\n",
    "samples = 10\n",
    "counts = gw.nidaq.readCtrs_multiRead_intClk(rate,samples)\n",
    "print(counts)\n",
    "gw.disconnect()\n",
    "```"
   ]
  },
  {
   "cell_type": "markdown",
   "id": "a81f7064",
   "metadata": {},
   "source": []
  },
  {
   "cell_type": "code",
   "execution_count": null,
   "id": "1eee34be",
   "metadata": {},
   "outputs": [],
   "source": []
  }
 ],
 "metadata": {
  "kernelspec": {
   "display_name": "Python 3 (ipykernel)",
   "language": "python",
   "name": "python3"
  },
  "language_info": {
   "codemirror_mode": {
    "name": "ipython",
    "version": 3
   },
   "file_extension": ".py",
   "mimetype": "text/x-python",
   "name": "python",
   "nbconvert_exporter": "python",
   "pygments_lexer": "ipython3",
   "version": "3.11.4"
  }
 },
 "nbformat": 4,
 "nbformat_minor": 5
}
