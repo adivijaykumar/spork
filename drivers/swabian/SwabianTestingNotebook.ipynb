{
 "cells": [
  {
   "cell_type": "code",
   "execution_count": 12,
   "id": "67999632",
   "metadata": {},
   "outputs": [],
   "source": [
    "from SwabianPS82 import SwabianPulseStreamer82\n",
    "from pulsestreamer import PulseStreamer"
   ]
  },
  {
   "cell_type": "code",
   "execution_count": 3,
   "id": "6ca698c9",
   "metadata": {},
   "outputs": [
    {
     "name": "stdout",
     "output_type": "stream",
     "text": [
      "Connect to Pulse Streamer via JSON-RPC.\n",
      "IP / Hostname: 192.168.1.76\n",
      "Pulse Streamer 8/2 firmware: v1.6.3\n",
      "Client software: v1.7.0\n",
      "Your client software is more up to date than the Pulse Streamer 8/2 firmware. We recommend updating the firmware of your Pulse Streamer 8/2.\n",
      "For detailed information visit https://www.swabianinstruments.com/pulse-streamer-8-2/downloads/ or contact support@swabianinstruments.com\n",
      "Swabian Connected\n",
      "Serial #: 00:26:32:F0:6B:4D // Firmware: 1.6.3\n",
      "[1, 1, 0]\n"
     ]
    }
   ],
   "source": [
    "with SwabianPulseStreamer82() as ps:\n",
    "    print(ps.idn())\n",
    "    print(ps.streaming_state())\n",
    "    "
   ]
  },
  {
   "cell_type": "code",
   "execution_count": 4,
   "id": "960c9b8b",
   "metadata": {},
   "outputs": [],
   "source": [
    "ps.reset_streamer()"
   ]
  },
  {
   "cell_type": "code",
   "execution_count": 15,
   "id": "896880ad",
   "metadata": {},
   "outputs": [],
   "source": [
    "pattern = [(10000, 1), (10000, 0),(30000, 1), (10000, 0)]\n",
    "seq = ps.ps.createSequence()\n",
    "seq.setDigital(0, pattern)\n",
    "ps.runSequenceInfinitely(seq)"
   ]
  },
  {
   "cell_type": "code",
   "execution_count": null,
   "id": "4ae81f92",
   "metadata": {},
   "outputs": [],
   "source": []
  }
 ],
 "metadata": {
  "kernelspec": {
   "display_name": "Python 3 (ipykernel)",
   "language": "python",
   "name": "python3"
  },
  "language_info": {
   "codemirror_mode": {
    "name": "ipython",
    "version": 3
   },
   "file_extension": ".py",
   "mimetype": "text/x-python",
   "name": "python",
   "nbconvert_exporter": "python",
   "pygments_lexer": "ipython3",
   "version": "3.11.4"
  }
 },
 "nbformat": 4,
 "nbformat_minor": 5
}
