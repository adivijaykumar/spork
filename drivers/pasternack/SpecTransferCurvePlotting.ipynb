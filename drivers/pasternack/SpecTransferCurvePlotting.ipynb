{
 "cells": [
  {
   "cell_type": "code",
   "execution_count": 6,
   "id": "c71092a3",
   "metadata": {},
   "outputs": [],
   "source": [
    "import numpy as np\n",
    "import matplotlib.pyplot as plt\n",
    "from scipy.interpolate import CubicSpline"
   ]
  },
  {
   "cell_type": "code",
   "execution_count": 7,
   "id": "487293b1",
   "metadata": {},
   "outputs": [],
   "source": [
    "VvsParr = np.loadtxt(\"SpecTransferCurve.csv\",\n",
    "                 delimiter=\", \", dtype=float, skiprows=1)"
   ]
  },
  {
   "cell_type": "code",
   "execution_count": 8,
   "id": "45a1d806",
   "metadata": {},
   "outputs": [
    {
     "data": {
      "text/plain": [
       "array([[-9.54646345e+00,  3.37084701e+01],\n",
       "       [-8.75942238e+00,  3.93530586e+01],\n",
       "       [-7.97238132e+00,  4.57979153e+01],\n",
       "       [-7.18534025e+00,  5.31860950e+01],\n",
       "       [-6.39829918e+00,  6.15064774e+01],\n",
       "       [-5.61125812e+00,  7.06804225e+01],\n",
       "       [-4.82421705e+00,  8.08812351e+01],\n",
       "       [-4.03717598e+00,  9.23595035e+01],\n",
       "       [-3.25013492e+00,  1.05355689e+02],\n",
       "       [-2.46309385e+00,  1.19675363e+02],\n",
       "       [-1.67605278e+00,  1.36803113e+02],\n",
       "       [-8.89011716e-01,  1.54743741e+02],\n",
       "       [-1.01970649e-01,  1.74668819e+02],\n",
       "       [ 6.85070418e-01,  1.94888473e+02],\n",
       "       [ 1.47211148e+00,  2.15397282e+02],\n",
       "       [ 2.25915255e+00,  2.37313286e+02],\n",
       "       [ 3.04619362e+00,  2.60909002e+02],\n",
       "       [ 3.83323468e+00,  2.86850805e+02],\n",
       "       [ 4.62027575e+00,  3.15039981e+02],\n",
       "       [ 5.40731682e+00,  3.44544743e+02],\n",
       "       [ 6.19435789e+00,  3.80001116e+02],\n",
       "       [ 6.98139895e+00,  4.16466093e+02],\n",
       "       [ 7.76844002e+00,  4.56911235e+02],\n",
       "       [ 8.55548109e+00,  5.01812456e+02],\n",
       "       [ 9.34252215e+00,  5.49966472e+02],\n",
       "       [ 1.01295632e+01,  6.04648841e+02],\n",
       "       [ 1.09166043e+01,  6.64068415e+02],\n",
       "       [ 1.17036454e+01,  7.26261093e+02],\n",
       "       [ 1.24906864e+01,  7.97631650e+02],\n",
       "       [ 1.31704037e+01,  8.63193618e+02],\n",
       "       [ 1.39220183e+01,  9.56412319e+02],\n",
       "       [ 1.48394495e+01,  1.06122251e+03],\n",
       "       [ 1.57819491e+01,  1.17772673e+03],\n",
       "       [ 1.65570653e+01,  1.28096748e+03],\n",
       "       [ 1.73560312e+01,  1.41460141e+03],\n",
       "       [ 1.82146215e+01,  1.56676181e+03],\n",
       "       [ 1.90016625e+01,  1.71891802e+03]])"
      ]
     },
     "execution_count": 8,
     "metadata": {},
     "output_type": "execute_result"
    }
   ],
   "source": [
    "VvsParr"
   ]
  },
  {
   "cell_type": "code",
   "execution_count": 16,
   "id": "17b83997",
   "metadata": {},
   "outputs": [
    {
     "data": {
      "text/plain": [
       "Text(0, 0.5, 'Schottky Output Voltage (mV)')"
      ]
     },
     "execution_count": 16,
     "metadata": {},
     "output_type": "execute_result"
    },
    {
     "data": {
      "image/png": "[encoded data removed]",
      "text/plain": [
       "<Figure size 216x216 with 1 Axes>"
      ]
     },
     "metadata": {
      "needs_background": "light"
     },
     "output_type": "display_data"
    }
   ],
   "source": [
    "fig = plt.figure(figsize=(3, 3))\n",
    "\n",
    "plt.plot(VvsParr[:,0],VvsParr[:,1], c='blue')\n",
    "plt.yscale('log')\n",
    "plt.xlabel('Power (dbm)')\n",
    "plt.ylabel('Schottky Output Voltage (mV)')"
   ]
  },
  {
   "cell_type": "code",
   "execution_count": 10,
   "id": "59942163",
   "metadata": {},
   "outputs": [],
   "source": [
    "PvsVfxn = CubicSpline(VvsParr[:,1], VvsParr[:,0], extrapolate=False)"
   ]
  },
  {
   "cell_type": "code",
   "execution_count": 14,
   "id": "730aec08",
   "metadata": {},
   "outputs": [
    {
     "data": {
      "image/png": "[encoded data removed]",
      "text/plain": [
       "<Figure size 216x216 with 1 Axes>"
      ]
     },
     "metadata": {
      "needs_background": "light"
     },
     "output_type": "display_data"
    }
   ],
   "source": [
    "fig = plt.figure(figsize=(3, 3))\n",
    "\n",
    "plt.plot(VvsParr[:,1],VvsParr[:,0], c='blue')\n",
    "plt.plot(np.logspace(1.2, 3.05), PvsVfxn(np.logspace(1.2, 3.1)), c='red')\n",
    "plt.yscale('log')"
   ]
  },
  {
   "cell_type": "code",
   "execution_count": null,
   "id": "35c96194",
   "metadata": {},
   "outputs": [],
   "source": []
  }
 ],
 "metadata": {
  "kernelspec": {
   "display_name": "Python 3",
   "language": "python",
   "name": "python3"
  },
  "language_info": {
   "codemirror_mode": {
    "name": "ipython",
    "version": 3
   },
   "file_extension": ".py",
   "mimetype": "text/x-python",
   "name": "python",
   "nbconvert_exporter": "python",
   "pygments_lexer": "ipython3",
   "version": "3.9.7"
  },
  "vscode": {
   "interpreter": {
    "hash": "eb689d2b8334b67c8322b4e593f51c392e73830a601cc863e545e6b8412b82b2"
   }
  }
 },
 "nbformat": 4,
 "nbformat_minor": 5
}
